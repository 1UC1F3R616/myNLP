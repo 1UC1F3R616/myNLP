{
  "nbformat": 4,
  "nbformat_minor": 0,
  "metadata": {
    "colab": {
      "name": "LiveWord2Vec.ipynb",
      "provenance": [],
      "authorship_tag": "ABX9TyNVlfdTvChvPMFl3O/N63NF",
      "include_colab_link": true
    },
    "kernelspec": {
      "name": "python3",
      "display_name": "Python 3"
    }
  },
  "cells": [
    {
      "cell_type": "markdown",
      "metadata": {
        "id": "view-in-github",
        "colab_type": "text"
      },
      "source": [
        "<a href=\"https://colab.research.google.com/gist/1UC1F3R616/645e62f5e3441ad8d8be0657d4f0c2cd/liveword2vec.ipynb\" target=\"_parent\"><img src=\"https://colab.research.google.com/assets/colab-badge.svg\" alt=\"Open In Colab\"/></a>"
      ]
    },
    {
      "cell_type": "code",
      "metadata": {
        "id": "kX3PULb7cuUv",
        "colab_type": "code",
        "colab": {}
      },
      "source": [
        "!pip install gensim\n",
        "!pip install wikipedia"
      ],
      "execution_count": 0,
      "outputs": []
    },
    {
      "cell_type": "code",
      "metadata": {
        "id": "SwDuO43ed6gY",
        "colab_type": "code",
        "colab": {}
      },
      "source": [
        "from nltk.tokenize import sent_tokenize\n",
        "from nltk.tokenize import word_tokenize\n",
        "from nltk.corpus import stopwords\n",
        "from nltk.stem import WordNetLemmatizer"
      ],
      "execution_count": 0,
      "outputs": []
    },
    {
      "cell_type": "code",
      "metadata": {
        "id": "FvJtsLj0eXvt",
        "colab_type": "code",
        "colab": {}
      },
      "source": [
        "from gensim.models import Word2Vec\n",
        "import string\n",
        "import warnings\n",
        "\n",
        "warnings.filterwarnings(action='ignore', category=UserWarning, module='gensim')"
      ],
      "execution_count": 0,
      "outputs": []
    },
    {
      "cell_type": "code",
      "metadata": {
        "id": "kfJdy5pae7h6",
        "colab_type": "code",
        "colab": {}
      },
      "source": [
        "import wikipedia\n",
        "from wikipedia import search\n",
        "from wikipedia import page"
      ],
      "execution_count": 0,
      "outputs": []
    },
    {
      "cell_type": "code",
      "metadata": {
        "id": "oC-n_bHOfROn",
        "colab_type": "code",
        "colab": {}
      },
      "source": [
        "# Working with wikipedia\n",
        "titles = search('Natural Language Processing')\n",
        "# print(titles)\n",
        "wikipage = page(titles[0])\n",
        "\n",
        "# print(wikipage.content)\n",
        "# print(wikipage.categories)\n",
        "\n",
        "print(wikipedia.summary('Natural Language Processing', auto_suggest=True, ))"
      ],
      "execution_count": 0,
      "outputs": []
    },
    {
      "cell_type": "code",
      "metadata": {
        "id": "6GEDWZ7Yi5AZ",
        "colab_type": "code",
        "colab": {}
      },
      "source": [
        "## Applying NLP\n",
        "def preprocessing(text):\n",
        "  result = []\n",
        "  tokenized_sentences = sent_tokenize(text)\n",
        "  for sentence in tokenized_sentences:\n",
        "    tokenized_words = word_tokenize(sentence)\n",
        "    stopwords_ = stopwords.words('english')\n",
        "    filtered_tokenized_words = [word for word in tokenized_words \\\n",
        "                                if word.lower() not in string.punctuation \\\n",
        "                                and word.lower() not in stopwords_]\n",
        "    lemma = WordNetLemmatizer()\n",
        "    lemma_tokenized_words = [lemma.lemmatize(word) for word in filtered_tokenized_words]\n",
        "    \n",
        "    result += [lemma_tokenized_words]\n",
        "\n",
        "  return result"
      ],
      "execution_count": 0,
      "outputs": []
    },
    {
      "cell_type": "code",
      "metadata": {
        "id": "zxrz1Kf8k61p",
        "colab_type": "code",
        "colab": {}
      },
      "source": [
        "import nltk\n",
        "nltk.download('punkt')\n",
        "nltk.download('stopwords')\n",
        "nltk.download('wordnet')"
      ],
      "execution_count": 0,
      "outputs": []
    },
    {
      "cell_type": "code",
      "metadata": {
        "id": "uoOygACWkzTs",
        "colab_type": "code",
        "colab": {}
      },
      "source": [
        "text_p = preprocessing(wikipage.content)"
      ],
      "execution_count": 0,
      "outputs": []
    },
    {
      "cell_type": "code",
      "metadata": {
        "id": "svzYgROSmOmP",
        "colab_type": "code",
        "colab": {}
      },
      "source": [
        "print(text_p)"
      ],
      "execution_count": 0,
      "outputs": []
    },
    {
      "cell_type": "code",
      "metadata": {
        "id": "EXD25Zrgmlnu",
        "colab_type": "code",
        "colab": {}
      },
      "source": [
        "# Model\n",
        "min_count = 2\n",
        "size = 50\n",
        "window = 4\n",
        "\n",
        "wikimodel  = Word2Vec(text_p, min_count=min_count,  size=size, window=window)"
      ],
      "execution_count": 0,
      "outputs": []
    },
    {
      "cell_type": "code",
      "metadata": {
        "id": "R-G7RWkJnGQG",
        "colab_type": "code",
        "colab": {}
      },
      "source": [
        "# Result\n",
        "vocab = list(wikimodel.wv.vocab.keys())\n",
        "vocab[:10]\n",
        "wikimodel.wv.most_similar(positive = ['learn', 'processing'], topn=3)\n",
        "\n",
        "# wikimodel.wv.similarity('data', 'human') # similarity between this two"
      ],
      "execution_count": 0,
      "outputs": []
    }
  ]
}