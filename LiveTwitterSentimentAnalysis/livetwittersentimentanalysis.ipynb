{
  "nbformat": 4,
  "nbformat_minor": 0,
  "metadata": {
    "colab": {
      "name": "LiveTwitterSentimentAnalysis.ipynb",
      "provenance": [],
      "authorship_tag": "ABX9TyMe/iz6BMJl0D/2+JV+o8DV",
      "include_colab_link": true
    },
    "kernelspec": {
      "name": "python3",
      "display_name": "Python 3"
    }
  },
  "cells": [
    {
      "cell_type": "markdown",
      "metadata": {
        "id": "view-in-github",
        "colab_type": "text"
      },
      "source": [
        "<a href=\"https://colab.research.google.com/gist/1UC1F3R616/125b639953ab52110b8ba63cdaf322f8/livetwittersentimentanalysis.ipynb\" target=\"_parent\"><img src=\"https://colab.research.google.com/assets/colab-badge.svg\" alt=\"Open In Colab\"/></a>"
      ]
    },
    {
      "cell_type": "markdown",
      "metadata": {
        "id": "py8NBiNNzIU8",
        "colab_type": "text"
      },
      "source": [
        "# Live Twitter Sentiment Analysis\n",
        "- Data Mining Technique\n",
        "- Social Media\n",
        "- Represents the general public's sentiments\n",
        "\n",
        "### Steps\n",
        "- Installig Tweepy\n",
        "- Creating Account and Twitter API\n",
        "- Importing the libraries\n",
        "- Connecting the Libraries\n",
        "- Connecting with the Twitter API\n",
        "- Iterate and Analyse the tweets data\n",
        "- Print the result using Pie Chart"
      ]
    },
    {
      "cell_type": "code",
      "metadata": {
        "id": "6tcziA50xy1i",
        "colab_type": "code",
        "colab": {}
      },
      "source": [
        "!pip install tweepy"
      ],
      "execution_count": 0,
      "outputs": []
    },
    {
      "cell_type": "code",
      "metadata": {
        "id": "b3r1_pWO0GLn",
        "colab_type": "code",
        "colab": {}
      },
      "source": [
        "!pip install textblob"
      ],
      "execution_count": 0,
      "outputs": []
    },
    {
      "cell_type": "code",
      "metadata": {
        "id": "-PwNVrzv6QI8",
        "colab_type": "code",
        "colab": {}
      },
      "source": [
        "from textblob import TextBlob\n",
        "import sys\n",
        "import tweepy\n",
        "import matplotlib.pyplot as plt"
      ],
      "execution_count": 0,
      "outputs": []
    },
    {
      "cell_type": "code",
      "metadata": {
        "id": "ctqtJj5c6dtx",
        "colab_type": "code",
        "colab": {}
      },
      "source": [
        "def percentage(part, whole):\n",
        "  return 100 * float(part)/float(whole)"
      ],
      "execution_count": 0,
      "outputs": []
    },
    {
      "cell_type": "code",
      "metadata": {
        "id": "3NDfQdyU6lBY",
        "colab_type": "code",
        "colab": {
          "base_uri": "https://localhost:8080/",
          "height": 53
        },
        "outputId": "6e20e576-2875-4123-ca50-eed208930083"
      },
      "source": [
        "# Connecting with the Twitter API\n",
        "from getpass import getpass\n",
        "access_token = getpass('Enter the Twitter Access Token')\n",
        "access_token_secret = getpass('Enter the Twitter Access Token Secret')"
      ],
      "execution_count": 7,
      "outputs": [
        {
          "output_type": "stream",
          "text": [
            "Enter the Twitter Access Token··········\n",
            "Enter the Twitter Access Token Secret··········\n"
          ],
          "name": "stdout"
        }
      ]
    },
    {
      "cell_type": "code",
      "metadata": {
        "id": "Tjqk5pss7yNj",
        "colab_type": "code",
        "colab": {
          "base_uri": "https://localhost:8080/",
          "height": 53
        },
        "outputId": "9fe683cf-f243-4b94-9b7e-ee8d35d7937f"
      },
      "source": [
        "API_KEY = getpass('Enter the Twitter API KEY')\n",
        "API_SECRET_KEY = getpass('Enter the Twitter API KEY SECRET')"
      ],
      "execution_count": 8,
      "outputs": [
        {
          "output_type": "stream",
          "text": [
            "Enter the Twitter API KEY··········\n",
            "Enter the Twitter API KEY SECRET··········\n"
          ],
          "name": "stdout"
        }
      ]
    },
    {
      "cell_type": "code",
      "metadata": {
        "id": "GbRpDMd-8SMw",
        "colab_type": "code",
        "colab": {}
      },
      "source": [
        "auth = tweepy.OAuthHandler(API_KEY, API_SECRET_KEY)\n",
        "auth.set_access_token(access_token, access_token_secret)\n",
        "api = tweepy.API(auth)"
      ],
      "execution_count": 0,
      "outputs": []
    },
    {
      "cell_type": "code",
      "metadata": {
        "id": "M5NMqmjn8nJs",
        "colab_type": "code",
        "colab": {
          "base_uri": "https://localhost:8080/",
          "height": 53
        },
        "outputId": "702d84fb-6e4d-46b4-e05c-116e026aca95"
      },
      "source": [
        "searchTerm = input('Enter Keyword/Tag to search about: ')\n",
        "NoOfTerms = int(input('Enter how many tweets to search: '))\n",
        "tweets = tweepy.Cursor(api.search, q=searchTerm).items(NoOfTerms)"
      ],
      "execution_count": 58,
      "outputs": [
        {
          "output_type": "stream",
          "text": [
            "Enter Keyword/Tag to search about: corona\n",
            "Enter how many tweets to search: 100\n"
          ],
          "name": "stdout"
        }
      ]
    },
    {
      "cell_type": "code",
      "metadata": {
        "id": "eSz6iPqo8yyF",
        "colab_type": "code",
        "colab": {
          "base_uri": "https://localhost:8080/",
          "height": 35
        },
        "outputId": "79c44827-a45a-4aba-d85c-e6d549d80edd"
      },
      "source": [
        "# Iterate and Analyse the tweets\n",
        "a = TextBlob('I am a funny Cricket player')\n",
        "a.sentiment.polarity"
      ],
      "execution_count": 59,
      "outputs": [
        {
          "output_type": "execute_result",
          "data": {
            "text/plain": [
              "0.25"
            ]
          },
          "metadata": {
            "tags": []
          },
          "execution_count": 59
        }
      ]
    },
    {
      "cell_type": "code",
      "metadata": {
        "id": "-wxdVlID-_wn",
        "colab_type": "code",
        "colab": {}
      },
      "source": [
        "positive = 0\n",
        "negative = 0\n",
        "neutral = 0\n",
        "polarity = 0"
      ],
      "execution_count": 0,
      "outputs": []
    },
    {
      "cell_type": "code",
      "metadata": {
        "id": "QjERSkyB_McP",
        "colab_type": "code",
        "colab": {}
      },
      "source": [
        "for tweet in tweets:\n",
        "  analysis = TextBlob(tweet.text)\n",
        "  sentiment = analysis.sentiment.polarity\n",
        "  polarity += sentiment\n",
        "\n",
        "  if sentiment < 0:\n",
        "    negative += 1\n",
        "  elif sentiment == 0:\n",
        "    neutral += 1\n",
        "  elif sentiment > 0:\n",
        "    positive += 1"
      ],
      "execution_count": 0,
      "outputs": []
    },
    {
      "cell_type": "code",
      "metadata": {
        "id": "eTJAgjBUA4X1",
        "colab_type": "code",
        "colab": {}
      },
      "source": [
        "positivePercentage = float(format(percentage(positive, NoOfTerms), '.2f'))\n",
        "negativePercentage = float(format(percentage(negative, NoOfTerms), '.2f'))\n",
        "neutralPercentage  = float(format(percentage(neutral, NoOfTerms), '.2f'))\n",
        "polarityPercentage = float(format(percentage(polarity, NoOfTerms), '.2f'))"
      ],
      "execution_count": 0,
      "outputs": []
    },
    {
      "cell_type": "code",
      "metadata": {
        "id": "ezopkNugE_2a",
        "colab_type": "code",
        "colab": {
          "base_uri": "https://localhost:8080/",
          "height": 53
        },
        "outputId": "7529305a-ee0f-474a-874e-9857cba7d9c2"
      },
      "source": [
        "print(type(positivePercentage))\n",
        "print(positivePercentage)"
      ],
      "execution_count": 63,
      "outputs": [
        {
          "output_type": "stream",
          "text": [
            "<class 'float'>\n",
            "14.0\n"
          ],
          "name": "stdout"
        }
      ]
    },
    {
      "cell_type": "code",
      "metadata": {
        "id": "bFtXxuwwB0Yx",
        "colab_type": "code",
        "colab": {
          "base_uri": "https://localhost:8080/",
          "height": 72
        },
        "outputId": "c2c9ca7c-a078-427c-b682-b96f54aeb50f"
      },
      "source": [
        "print('How People are Reacting on '+ searchTerm + 'By Analyzing ' + str(NoOfTerms) + ' Tweets')\n",
        "\n",
        "if polarityPercentage < 0.00:\n",
        "  print('Negative')\n",
        "elif polarityPercentage == 0:\n",
        "  print('Neutral')\n",
        "elif polarityPercentage > 0.00:\n",
        "  print('Positive')\n",
        "\n",
        "print('Polarity: ' + str(polarityPercentage))"
      ],
      "execution_count": 64,
      "outputs": [
        {
          "output_type": "stream",
          "text": [
            "How People are Reacting on coronaBy Analyzing 100 Tweets\n",
            "Negative\n",
            "Polarity: -0.66\n"
          ],
          "name": "stdout"
        }
      ]
    },
    {
      "cell_type": "code",
      "metadata": {
        "id": "gT_Vyt1HCmog",
        "colab_type": "code",
        "colab": {
          "base_uri": "https://localhost:8080/",
          "height": 297
        },
        "outputId": "e8425782-90eb-4934-bbf3-465639b5786c"
      },
      "source": [
        "labels = ['Positive [{}%]'.format(positivePercentage),\n",
        "  'Neutral [{}%]'.format(neutralPercentage),\n",
        "  'Negative [{}%]'.format(negativePercentage)\n",
        "]\n",
        "\n",
        "sizes = [positivePercentage, neutralPercentage, negativePercentage]\n",
        "colors = ['green', 'blue', 'red']\n",
        "patches, texts = plt.pie(sizes, colors = colors, startangle=90)\n",
        "plt.legend(patches, labels, loc='best')\n",
        "plt.title('Hoe people are reacting on {} by analyzing {} Tweets'.format(searchTerm, NoOfTerms))\n",
        "plt.axis('equal')\n",
        "plt.tight_layout()\n",
        "plt.show()"
      ],
      "execution_count": 65,
      "outputs": [
        {
          "output_type": "display_data",
          "data": {
            "image/png": "[encoded data removed]",
            "text/plain": [
              "<Figure size 432x288 with 1 Axes>"
            ]
          },
          "metadata": {
            "tags": []
          }
        }
      ]
    }
  ]
}